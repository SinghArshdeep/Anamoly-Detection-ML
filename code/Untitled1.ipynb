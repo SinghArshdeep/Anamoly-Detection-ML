{
 "cells": [
  {
   "cell_type": "code",
   "execution_count": 1,
   "id": "exceptional-thumb",
   "metadata": {
    "ExecuteTime": {
     "end_time": "2021-04-08T03:26:57.500925Z",
     "start_time": "2021-04-08T03:26:55.394370Z"
    }
   },
   "outputs": [],
   "source": [
    "import numpy as np\n",
    "import pandas as pd\n",
    "# This library is to visualise statistical graphs\n",
    "import seaborn as sns\n",
    "\n",
    "# This library is to visualise graphs\n",
    "import matplotlib.pyplot as plt\n",
    "\n",
    "# To set some plotting parameters\n",
    "from matplotlib import rcParams\n",
    "\n",
    "# To supplies classes for manipulating dates and times\n",
    "import datetime\n",
    "\n",
    "# Library to work with Regular Expressions\n",
    "import re\n",
    "\n",
    "# To ignore filterwarnings\n",
    "import warnings\n",
    "\n",
    "# This library is to create displays\n",
    "from IPython.display import Image\n",
    "from matplotlib import cm\n",
    "import plotly.express as px\n",
    "import xgboost"
   ]
  },
  {
   "cell_type": "code",
   "execution_count": 2,
   "id": "entire-honor",
   "metadata": {
    "ExecuteTime": {
     "end_time": "2021-04-08T03:27:16.125863Z",
     "start_time": "2021-04-08T03:26:57.518101Z"
    }
   },
   "outputs": [],
   "source": [
    "df_trans = pd.read_csv('../ieee-fraud-detection/train_transaction.csv')\n",
    "df_identity = pd.read_csv('../ieee-fraud-detection/train_identity.csv')"
   ]
  },
  {
   "cell_type": "code",
   "execution_count": 3,
   "id": "formal-luxury",
   "metadata": {
    "ExecuteTime": {
     "end_time": "2021-04-08T03:27:18.685666Z",
     "start_time": "2021-04-08T03:27:16.484621Z"
    }
   },
   "outputs": [],
   "source": [
    "train = pd.merge(df_trans, df_identity, how='left', \n",
    "                 on='TransactionID', left_index=True, \n",
    "                right_index=True)"
   ]
  },
  {
   "cell_type": "code",
   "execution_count": 4,
   "id": "figured-james",
   "metadata": {
    "ExecuteTime": {
     "end_time": "2021-04-08T03:27:58.946644Z",
     "start_time": "2021-04-08T03:27:58.942850Z"
    }
   },
   "outputs": [],
   "source": [
    "def getnulls(data):\n",
    "    total = data.isnull().sum().sort_values(ascending=False)\n",
    "    percent = (data.isnull().sum() / data.isnull().count()).sort_values(ascending=False)\n",
    "    missing_data = pd.concat([total, percent], axis=1, keys=['total', 'precent'])\n",
    "    return missing_data"
   ]
  },
  {
   "cell_type": "code",
   "execution_count": 5,
   "id": "fallen-seminar",
   "metadata": {
    "ExecuteTime": {
     "end_time": "2021-04-08T03:28:14.196292Z",
     "start_time": "2021-04-08T03:28:09.967056Z"
    }
   },
   "outputs": [
    {
     "data": {
      "text/html": [
       "<div>\n",
       "<style scoped>\n",
       "    .dataframe tbody tr th:only-of-type {\n",
       "        vertical-align: middle;\n",
       "    }\n",
       "\n",
       "    .dataframe tbody tr th {\n",
       "        vertical-align: top;\n",
       "    }\n",
       "\n",
       "    .dataframe thead th {\n",
       "        text-align: right;\n",
       "    }\n",
       "</style>\n",
       "<table border=\"1\" class=\"dataframe\">\n",
       "  <thead>\n",
       "    <tr style=\"text-align: right;\">\n",
       "      <th></th>\n",
       "      <th>id_24</th>\n",
       "      <th>id_25</th>\n",
       "      <th>id_07</th>\n",
       "      <th>id_08</th>\n",
       "      <th>id_21</th>\n",
       "      <th>id_26</th>\n",
       "      <th>id_22</th>\n",
       "      <th>id_23</th>\n",
       "      <th>id_27</th>\n",
       "      <th>dist2</th>\n",
       "      <th>...</th>\n",
       "      <th>V96</th>\n",
       "      <th>V106</th>\n",
       "      <th>V114</th>\n",
       "      <th>V113</th>\n",
       "      <th>V112</th>\n",
       "      <th>V111</th>\n",
       "      <th>V110</th>\n",
       "      <th>V109</th>\n",
       "      <th>V108</th>\n",
       "      <th>V107</th>\n",
       "    </tr>\n",
       "  </thead>\n",
       "  <tbody>\n",
       "    <tr>\n",
       "      <th>total</th>\n",
       "      <td>585793.000000</td>\n",
       "      <td>585408.00000</td>\n",
       "      <td>585385.000000</td>\n",
       "      <td>585385.000000</td>\n",
       "      <td>585381.000000</td>\n",
       "      <td>585377.000000</td>\n",
       "      <td>585371.000000</td>\n",
       "      <td>585371.000000</td>\n",
       "      <td>585371.000000</td>\n",
       "      <td>552913.000000</td>\n",
       "      <td>...</td>\n",
       "      <td>314.000000</td>\n",
       "      <td>314.000000</td>\n",
       "      <td>314.000000</td>\n",
       "      <td>314.000000</td>\n",
       "      <td>314.000000</td>\n",
       "      <td>314.000000</td>\n",
       "      <td>314.000000</td>\n",
       "      <td>314.000000</td>\n",
       "      <td>314.000000</td>\n",
       "      <td>314.000000</td>\n",
       "    </tr>\n",
       "    <tr>\n",
       "      <th>precent</th>\n",
       "      <td>0.991962</td>\n",
       "      <td>0.99131</td>\n",
       "      <td>0.991271</td>\n",
       "      <td>0.991271</td>\n",
       "      <td>0.991264</td>\n",
       "      <td>0.991257</td>\n",
       "      <td>0.991247</td>\n",
       "      <td>0.991247</td>\n",
       "      <td>0.991247</td>\n",
       "      <td>0.936284</td>\n",
       "      <td>...</td>\n",
       "      <td>0.000532</td>\n",
       "      <td>0.000532</td>\n",
       "      <td>0.000532</td>\n",
       "      <td>0.000532</td>\n",
       "      <td>0.000532</td>\n",
       "      <td>0.000532</td>\n",
       "      <td>0.000532</td>\n",
       "      <td>0.000532</td>\n",
       "      <td>0.000532</td>\n",
       "      <td>0.000532</td>\n",
       "    </tr>\n",
       "  </tbody>\n",
       "</table>\n",
       "<p>2 rows × 350 columns</p>\n",
       "</div>"
      ],
      "text/plain": [
       "                 id_24         id_25          id_07          id_08  \\\n",
       "total    585793.000000  585408.00000  585385.000000  585385.000000   \n",
       "precent       0.991962       0.99131       0.991271       0.991271   \n",
       "\n",
       "                 id_21          id_26          id_22          id_23  \\\n",
       "total    585381.000000  585377.000000  585371.000000  585371.000000   \n",
       "precent       0.991264       0.991257       0.991247       0.991247   \n",
       "\n",
       "                 id_27          dist2  ...         V96        V106  \\\n",
       "total    585371.000000  552913.000000  ...  314.000000  314.000000   \n",
       "precent       0.991247       0.936284  ...    0.000532    0.000532   \n",
       "\n",
       "               V114        V113        V112        V111        V110  \\\n",
       "total    314.000000  314.000000  314.000000  314.000000  314.000000   \n",
       "precent    0.000532    0.000532    0.000532    0.000532    0.000532   \n",
       "\n",
       "               V109        V108        V107  \n",
       "total    314.000000  314.000000  314.000000  \n",
       "precent    0.000532    0.000532    0.000532  \n",
       "\n",
       "[2 rows x 350 columns]"
      ]
     },
     "execution_count": 5,
     "metadata": {},
     "output_type": "execute_result"
    }
   ],
   "source": [
    "missing_data_train = getnulls(train)\n",
    "missing_data_train.head(350).T"
   ]
  },
  {
   "cell_type": "code",
   "execution_count": null,
   "id": "fifty-award",
   "metadata": {},
   "outputs": [],
   "source": []
  },
  {
   "cell_type": "code",
   "execution_count": null,
   "id": "stable-presence",
   "metadata": {},
   "outputs": [],
   "source": []
  },
  {
   "cell_type": "code",
   "execution_count": null,
   "id": "downtown-blind",
   "metadata": {},
   "outputs": [],
   "source": []
  },
  {
   "cell_type": "code",
   "execution_count": null,
   "id": "relative-handy",
   "metadata": {},
   "outputs": [],
   "source": []
  }
 ],
 "metadata": {
  "kernelspec": {
   "display_name": "Python 3.7.6 64-bit ('anaconda3': virtualenv)",
   "language": "python",
   "name": "python37664bitanaconda3virtualenv04a2b6933b1b4099983c58046896adff"
  },
  "language_info": {
   "codemirror_mode": {
    "name": "ipython",
    "version": 3
   },
   "file_extension": ".py",
   "mimetype": "text/x-python",
   "name": "python",
   "nbconvert_exporter": "python",
   "pygments_lexer": "ipython3",
   "version": "3.7.6"
  },
  "toc": {
   "base_numbering": 1,
   "nav_menu": {},
   "number_sections": true,
   "sideBar": true,
   "skip_h1_title": false,
   "title_cell": "Table of Contents",
   "title_sidebar": "Contents",
   "toc_cell": false,
   "toc_position": {},
   "toc_section_display": true,
   "toc_window_display": false
  },
  "varInspector": {
   "cols": {
    "lenName": 16,
    "lenType": 16,
    "lenVar": 40
   },
   "kernels_config": {
    "python": {
     "delete_cmd_postfix": "",
     "delete_cmd_prefix": "del ",
     "library": "var_list.py",
     "varRefreshCmd": "print(var_dic_list())"
    },
    "r": {
     "delete_cmd_postfix": ") ",
     "delete_cmd_prefix": "rm(",
     "library": "var_list.r",
     "varRefreshCmd": "cat(var_dic_list()) "
    }
   },
   "types_to_exclude": [
    "module",
    "function",
    "builtin_function_or_method",
    "instance",
    "_Feature"
   ],
   "window_display": false
  }
 },
 "nbformat": 4,
 "nbformat_minor": 5
}
